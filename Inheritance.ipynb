{
 "cells": [
  {
   "cell_type": "code",
   "execution_count": 1,
   "id": "2c3bd058-7bba-4c2b-aebd-63d37ed374d2",
   "metadata": {},
   "outputs": [],
   "source": [
    "class parent:\n",
    "    def test_parent(self):\n",
    "        print(\"this is my parent class\")"
   ]
  },
  {
   "cell_type": "code",
   "execution_count": 2,
   "id": "68cc97e1-ec97-489b-aae9-9da57c2062c1",
   "metadata": {},
   "outputs": [],
   "source": [
    "class child(parent):\n",
    "    pass"
   ]
  },
  {
   "cell_type": "code",
   "execution_count": 3,
   "id": "f90f273b-98ff-436a-b034-1e908dc082e0",
   "metadata": {},
   "outputs": [],
   "source": [
    "child_obj = child()"
   ]
  },
  {
   "cell_type": "code",
   "execution_count": 4,
   "id": "972495df-4916-4ae6-a5ee-fc24cbf15fec",
   "metadata": {},
   "outputs": [
    {
     "name": "stdout",
     "output_type": "stream",
     "text": [
      "this is my parent class\n"
     ]
    }
   ],
   "source": [
    "child_obj.test_parent()"
   ]
  },
  {
   "cell_type": "code",
   "execution_count": null,
   "id": "baca6ece-36b2-4b03-94a0-6c0774d716f7",
   "metadata": {},
   "outputs": [],
   "source": [
    "# Inheritance is of two types\n",
    "1. Multilabel Inheritance \n",
    "2. Multiple Inheritance "
   ]
  },
  {
   "cell_type": "code",
   "execution_count": null,
   "id": "7fa50ece-a27d-49d2-8947-b6518c748a61",
   "metadata": {},
   "outputs": [],
   "source": [
    "##Multilabel Inheritance \n",
    "\n",
    "class 1 >> class 2 >> class 3 \n",
    "\n",
    "class 3 will inherit class 1 property "
   ]
  },
  {
   "cell_type": "code",
   "execution_count": 5,
   "id": "e0e0be6c-a19e-4211-8716-932e5f5aed32",
   "metadata": {},
   "outputs": [],
   "source": [
    "class class1:\n",
    "    def test_class1(self):\n",
    "        print(\"this is my class 1\")"
   ]
  },
  {
   "cell_type": "code",
   "execution_count": 6,
   "id": "7e7cb83f-3af4-4a3f-97e8-55e12fdff945",
   "metadata": {},
   "outputs": [],
   "source": [
    "class class2(class1):\n",
    "    def test_class2(self):\n",
    "        print(\"this is my class 2\")"
   ]
  },
  {
   "cell_type": "code",
   "execution_count": 7,
   "id": "76f4f564-4e50-4b63-a20c-54bcd2da5f22",
   "metadata": {},
   "outputs": [],
   "source": [
    "class class3(class2):\n",
    "    def test_class3(self):\n",
    "        print(\"this is my class 3\")"
   ]
  },
  {
   "cell_type": "code",
   "execution_count": 8,
   "id": "50468e3e-5550-4cc4-a0ce-e23a320ef461",
   "metadata": {},
   "outputs": [],
   "source": [
    "obj_test3 = class3()"
   ]
  },
  {
   "cell_type": "code",
   "execution_count": 12,
   "id": "83e6b697-47c0-40ea-abee-0a87107721b1",
   "metadata": {},
   "outputs": [
    {
     "name": "stdout",
     "output_type": "stream",
     "text": [
      "this is my class 1\n"
     ]
    }
   ],
   "source": [
    "obj_test3.test_class1()"
   ]
  },
  {
   "cell_type": "code",
   "execution_count": 14,
   "id": "3593303b-15c6-4f20-ad93-b7d1ca41d636",
   "metadata": {},
   "outputs": [],
   "source": [
    "obj_test2 = class2()"
   ]
  },
  {
   "cell_type": "code",
   "execution_count": 15,
   "id": "4c43ce2e-f06a-4d69-a1f6-63895e9abfd4",
   "metadata": {},
   "outputs": [
    {
     "name": "stdout",
     "output_type": "stream",
     "text": [
      "this is my class 1\n"
     ]
    }
   ],
   "source": [
    "obj_test2.test_class1()"
   ]
  },
  {
   "cell_type": "code",
   "execution_count": 18,
   "id": "61265852-4072-4e04-9919-675d01c2c45e",
   "metadata": {},
   "outputs": [
    {
     "ename": "AttributeError",
     "evalue": "'class2' object has no attribute 'test_class3'",
     "output_type": "error",
     "traceback": [
      "\u001b[1;31m---------------------------------------------------------------------------\u001b[0m",
      "\u001b[1;31mAttributeError\u001b[0m                            Traceback (most recent call last)",
      "Cell \u001b[1;32mIn[18], line 1\u001b[0m\n\u001b[1;32m----> 1\u001b[0m obj_test2\u001b[38;5;241m.\u001b[39mtest_class3()\n",
      "\u001b[1;31mAttributeError\u001b[0m: 'class2' object has no attribute 'test_class3'"
     ]
    }
   ],
   "source": [
    "obj_test2.test_class3()"
   ]
  },
  {
   "cell_type": "markdown",
   "id": "14a3d3f8-50f9-40ec-89b3-7ba7763cbbfc",
   "metadata": {},
   "source": [
    "######## Multiple Inheritance "
   ]
  },
  {
   "cell_type": "code",
   "execution_count": null,
   "id": "3ff09789-670d-4f8c-84b3-21e251343bad",
   "metadata": {},
   "outputs": [],
   "source": [
    "class1 >> class 3\n",
    "class 2 >> class 3"
   ]
  },
  {
   "cell_type": "code",
   "execution_count": 19,
   "id": "3fe8047c-f6e5-42ba-baeb-baa3580dbb61",
   "metadata": {},
   "outputs": [],
   "source": [
    "class class1:\n",
    "    def test_class1(self):\n",
    "        print(\"this is my class 1\")"
   ]
  },
  {
   "cell_type": "code",
   "execution_count": 23,
   "id": "74db232d-2787-48be-aa73-42e688ea7b29",
   "metadata": {},
   "outputs": [],
   "source": [
    "class class2:\n",
    "    def test_class2(self):\n",
    "        print(\"this is my class 2\")"
   ]
  },
  {
   "cell_type": "code",
   "execution_count": 24,
   "id": "e662065f-87cc-4f98-937d-1c6eb9debfe0",
   "metadata": {},
   "outputs": [],
   "source": [
    "class class3(class1,class2):\n",
    "    def test_class3(self):\n",
    "        print(\"this is my class 3\")"
   ]
  },
  {
   "cell_type": "code",
   "execution_count": 25,
   "id": "d8a3aebd-e07f-45a4-b0ab-07708c668446",
   "metadata": {},
   "outputs": [],
   "source": [
    "obj_class3 = class3()"
   ]
  },
  {
   "cell_type": "code",
   "execution_count": 29,
   "id": "2bf5ccd3-28dd-4304-9e6a-d71341af0812",
   "metadata": {},
   "outputs": [
    {
     "name": "stdout",
     "output_type": "stream",
     "text": [
      "this is my class 3\n"
     ]
    }
   ],
   "source": [
    "obj_class3.test_class3()"
   ]
  },
  {
   "cell_type": "code",
   "execution_count": null,
   "id": "3c8f8adf-6072-4f3f-9054-03f42dc2b32b",
   "metadata": {},
   "outputs": [],
   "source": []
  }
 ],
 "metadata": {
  "kernelspec": {
   "display_name": "Python 3 (ipykernel)",
   "language": "python",
   "name": "python3"
  },
  "language_info": {
   "codemirror_mode": {
    "name": "ipython",
    "version": 3
   },
   "file_extension": ".py",
   "mimetype": "text/x-python",
   "name": "python",
   "nbconvert_exporter": "python",
   "pygments_lexer": "ipython3",
   "version": "3.11.7"
  }
 },
 "nbformat": 4,
 "nbformat_minor": 5
}
