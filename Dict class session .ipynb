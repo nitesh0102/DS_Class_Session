{
 "cells": [
  {
   "cell_type": "code",
   "execution_count": 1,
   "id": "a30c004e-ea14-4275-9b37-292cc0cedbb0",
   "metadata": {},
   "outputs": [],
   "source": [
    "d = {}"
   ]
  },
  {
   "cell_type": "code",
   "execution_count": 2,
   "id": "9867ed7f-3266-4467-a75d-f6d387285b6d",
   "metadata": {},
   "outputs": [
    {
     "data": {
      "text/plain": [
       "dict"
      ]
     },
     "execution_count": 2,
     "metadata": {},
     "output_type": "execute_result"
    }
   ],
   "source": [
    "type(d)"
   ]
  },
  {
   "cell_type": "code",
   "execution_count": 5,
   "id": "017959e2-c2ca-4f64-9ef1-04d4495e9323",
   "metadata": {},
   "outputs": [],
   "source": [
    "d1 = {\"name\": \"deepika\", \"email-id\": \"deepika@gmail.com\", \"age\" : \"30\"}"
   ]
  },
  {
   "cell_type": "code",
   "execution_count": 6,
   "id": "61cb9327-6b1c-4d5b-9472-543098e9a650",
   "metadata": {},
   "outputs": [
    {
     "data": {
      "text/plain": [
       "{'name': 'deepika', 'email-id': 'deepika@gmail.com', 'age': '30'}"
      ]
     },
     "execution_count": 6,
     "metadata": {},
     "output_type": "execute_result"
    }
   ],
   "source": [
    "d1"
   ]
  },
  {
   "cell_type": "code",
   "execution_count": 15,
   "id": "5d9e42b7-fc1f-43dc-830e-c1aefc8a6aef",
   "metadata": {},
   "outputs": [],
   "source": [
    "d2 = {1 : 'nitesh', \"name\" : 'priya'}"
   ]
  },
  {
   "cell_type": "code",
   "execution_count": 16,
   "id": "59401ce6-8cff-4d52-8bcc-9dd792d4b625",
   "metadata": {},
   "outputs": [
    {
     "data": {
      "text/plain": [
       "{1: 'nitesh', 'name': 'priya'}"
      ]
     },
     "execution_count": 16,
     "metadata": {},
     "output_type": "execute_result"
    }
   ],
   "source": [
    "d2"
   ]
  },
  {
   "cell_type": "code",
   "execution_count": 17,
   "id": "93815bb9-0def-40fc-a418-7b0a8b750177",
   "metadata": {},
   "outputs": [],
   "source": [
    "d3 = { True : \"abc\"}"
   ]
  },
  {
   "cell_type": "code",
   "execution_count": 18,
   "id": "ba0143f8-88e1-4c1b-b24d-ccfa1cd327ff",
   "metadata": {},
   "outputs": [
    {
     "data": {
      "text/plain": [
       "{True: 'abc'}"
      ]
     },
     "execution_count": 18,
     "metadata": {},
     "output_type": "execute_result"
    }
   ],
   "source": [
    "d3"
   ]
  },
  {
   "cell_type": "code",
   "execution_count": 21,
   "id": "4d9ac95d-bd39-4af1-a5c9-624881f33480",
   "metadata": {},
   "outputs": [],
   "source": [
    "d4 = { \"#\": \"anjs\"}"
   ]
  },
  {
   "cell_type": "code",
   "execution_count": 22,
   "id": "8e78a2ee-d149-4bf2-9f65-96c43b331001",
   "metadata": {},
   "outputs": [
    {
     "data": {
      "text/plain": [
       "{'#': 'anjs'}"
      ]
     },
     "execution_count": 22,
     "metadata": {},
     "output_type": "execute_result"
    }
   ],
   "source": [
    "d4"
   ]
  },
  {
   "cell_type": "code",
   "execution_count": 23,
   "id": "fb1ee6d7-4b8e-433e-b19e-05d0d91a9938",
   "metadata": {},
   "outputs": [
    {
     "ename": "SyntaxError",
     "evalue": "incomplete input (2516119493.py, line 1)",
     "output_type": "error",
     "traceback": [
      "\u001b[1;36m  Cell \u001b[1;32mIn[23], line 1\u001b[1;36m\u001b[0m\n\u001b[1;33m    d5 = { # : \"anjs\"}\u001b[0m\n\u001b[1;37m                      ^\u001b[0m\n\u001b[1;31mSyntaxError\u001b[0m\u001b[1;31m:\u001b[0m incomplete input\n"
     ]
    }
   ],
   "source": [
    "d5 = { # : \"anjs\"}"
   ]
  },
  {
   "cell_type": "code",
   "execution_count": 25,
   "id": "16f3d5f8-1830-42d5-8425-a9d5dafe75c4",
   "metadata": {},
   "outputs": [
    {
     "ename": "SyntaxError",
     "evalue": "invalid syntax (746990303.py, line 1)",
     "output_type": "error",
     "traceback": [
      "\u001b[1;36m  Cell \u001b[1;32mIn[25], line 1\u001b[1;36m\u001b[0m\n\u001b[1;33m    d6 = {  @ : \"anjs\"}\u001b[0m\n\u001b[1;37m            ^\u001b[0m\n\u001b[1;31mSyntaxError\u001b[0m\u001b[1;31m:\u001b[0m invalid syntax\n"
     ]
    }
   ],
   "source": [
    "d6 = {  @ : \"anjs\"}"
   ]
  },
  {
   "cell_type": "code",
   "execution_count": 26,
   "id": "06ae9872-760e-49f6-b34b-135925381435",
   "metadata": {},
   "outputs": [
    {
     "ename": "TypeError",
     "evalue": "unhashable type: 'list'",
     "output_type": "error",
     "traceback": [
      "\u001b[1;31m---------------------------------------------------------------------------\u001b[0m",
      "\u001b[1;31mTypeError\u001b[0m                                 Traceback (most recent call last)",
      "Cell \u001b[1;32mIn[26], line 1\u001b[0m\n\u001b[1;32m----> 1\u001b[0m d8 \u001b[38;5;241m=\u001b[39m {[\u001b[38;5;241m1\u001b[39m,\u001b[38;5;241m2\u001b[39m,\u001b[38;5;241m3\u001b[39m] : \u001b[38;5;124m\"\u001b[39m\u001b[38;5;124mabc\u001b[39m\u001b[38;5;124m\"\u001b[39m}\n",
      "\u001b[1;31mTypeError\u001b[0m: unhashable type: 'list'"
     ]
    }
   ],
   "source": [
    "d8 = {[1,2,3] : \"abc\"}"
   ]
  },
  {
   "cell_type": "code",
   "execution_count": 27,
   "id": "83e6603c-4a72-4e53-ac3b-1a7120e37c4b",
   "metadata": {},
   "outputs": [
    {
     "ename": "SyntaxError",
     "evalue": "':' expected after dictionary key (324143835.py, line 1)",
     "output_type": "error",
     "traceback": [
      "\u001b[1;36m  Cell \u001b[1;32mIn[27], line 1\u001b[1;36m\u001b[0m\n\u001b[1;33m    d9 = {[1,2,3] : \"abc\",\"dsds\",\"dsd\"}\u001b[0m\n\u001b[1;37m                               ^\u001b[0m\n\u001b[1;31mSyntaxError\u001b[0m\u001b[1;31m:\u001b[0m ':' expected after dictionary key\n"
     ]
    }
   ],
   "source": [
    "d9 = {[1,2,3] : \"abc\",\"dsds\",\"dsd\"}"
   ]
  },
  {
   "cell_type": "code",
   "execution_count": 28,
   "id": "2bea1cea-ba9a-45a2-8883-667d3cad0c4d",
   "metadata": {},
   "outputs": [
    {
     "ename": "TypeError",
     "evalue": "unhashable type: 'dict'",
     "output_type": "error",
     "traceback": [
      "\u001b[1;31m---------------------------------------------------------------------------\u001b[0m",
      "\u001b[1;31mTypeError\u001b[0m                                 Traceback (most recent call last)",
      "Cell \u001b[1;32mIn[28], line 1\u001b[0m\n\u001b[1;32m----> 1\u001b[0m d8 \u001b[38;5;241m=\u001b[39m {{\u001b[38;5;124m\"\u001b[39m\u001b[38;5;124m1\u001b[39m\u001b[38;5;124m\"\u001b[39m:\u001b[38;5;124m\"\u001b[39m\u001b[38;5;124msdsd\u001b[39m\u001b[38;5;124m\"\u001b[39m} : \u001b[38;5;124m\"\u001b[39m\u001b[38;5;124mabc\u001b[39m\u001b[38;5;124m\"\u001b[39m}\n",
      "\u001b[1;31mTypeError\u001b[0m: unhashable type: 'dict'"
     ]
    }
   ],
   "source": [
    "d8 = {{\"1\":\"sdsd\"} : \"abc\"}"
   ]
  },
  {
   "cell_type": "code",
   "execution_count": 29,
   "id": "504dc0e7-e46b-48e3-a584-5dc288dcec69",
   "metadata": {},
   "outputs": [
    {
     "data": {
      "text/plain": [
       "{'name': 'deepika', 'email-id': 'deepika@gmail.com', 'age': '30'}"
      ]
     },
     "execution_count": 29,
     "metadata": {},
     "output_type": "execute_result"
    }
   ],
   "source": [
    "d1"
   ]
  },
  {
   "cell_type": "code",
   "execution_count": 30,
   "id": "916b3eb2-eda0-4251-9690-90f9705131ff",
   "metadata": {},
   "outputs": [],
   "source": [
    "d16 = {\"batch_name\" :[\"data science masters\" , \"web dev\" , \"JDS\"] , \"start_date\": (28,14,21),\"mentor_name\" : {\"krish naik\", \"sudhanshu\" , \"hitesh\", \"anurag\" , \"navin\",\"hayder\"}}"
   ]
  },
  {
   "cell_type": "code",
   "execution_count": 31,
   "id": "be1440d0-e9d2-42a3-bfc1-f993cd3fed74",
   "metadata": {},
   "outputs": [
    {
     "data": {
      "text/plain": [
       "{'batch_name': ['data science masters', 'web dev', 'JDS'],\n",
       " 'start_date': (28, 14, 21),\n",
       " 'mentor_name': {'anurag',\n",
       "  'hayder',\n",
       "  'hitesh',\n",
       "  'krish naik',\n",
       "  'navin',\n",
       "  'sudhanshu'}}"
      ]
     },
     "execution_count": 31,
     "metadata": {},
     "output_type": "execute_result"
    }
   ],
   "source": [
    "d16"
   ]
  },
  {
   "cell_type": "code",
   "execution_count": 32,
   "id": "752ced08-b2ca-4e85-a351-d706b6bac1ec",
   "metadata": {},
   "outputs": [],
   "source": [
    "d16[\"timing\"] = (1,2,3)"
   ]
  },
  {
   "cell_type": "code",
   "execution_count": 33,
   "id": "88168061-b1dd-4a25-bfb6-62cd1e9a05f6",
   "metadata": {},
   "outputs": [
    {
     "data": {
      "text/plain": [
       "{'batch_name': ['data science masters', 'web dev', 'JDS'],\n",
       " 'start_date': (28, 14, 21),\n",
       " 'mentor_name': {'anurag',\n",
       "  'hayder',\n",
       "  'hitesh',\n",
       "  'krish naik',\n",
       "  'navin',\n",
       "  'sudhanshu'},\n",
       " 'timing': (1, 2, 3)}"
      ]
     },
     "execution_count": 33,
     "metadata": {},
     "output_type": "execute_result"
    }
   ],
   "source": [
    "d16"
   ]
  },
  {
   "cell_type": "code",
   "execution_count": 38,
   "id": "b7f71415-eb5d-427c-a3b2-8fbba920d028",
   "metadata": {},
   "outputs": [
    {
     "data": {
      "text/plain": [
       "dict_keys(['batch_name', 'start_date', 'mentor_name', 'timing'])"
      ]
     },
     "execution_count": 38,
     "metadata": {},
     "output_type": "execute_result"
    }
   ],
   "source": [
    "d16.keys()"
   ]
  },
  {
   "cell_type": "code",
   "execution_count": 39,
   "id": "3dfe1ba8-6bd7-4800-aa49-2ff4111eacfd",
   "metadata": {},
   "outputs": [
    {
     "data": {
      "text/plain": [
       "dict_values([['data science masters', 'web dev', 'JDS'], (28, 14, 21), {'hayder', 'hitesh', 'anurag', 'krish naik', 'navin', 'sudhanshu'}, (1, 2, 3)])"
      ]
     },
     "execution_count": 39,
     "metadata": {},
     "output_type": "execute_result"
    }
   ],
   "source": [
    "d16.values()"
   ]
  },
  {
   "cell_type": "code",
   "execution_count": 40,
   "id": "13bd8db5-f537-4ac5-8059-2ec8c26b8dad",
   "metadata": {},
   "outputs": [
    {
     "data": {
      "text/plain": [
       "[['data science masters', 'web dev', 'JDS'],\n",
       " (28, 14, 21),\n",
       " {'anurag', 'hayder', 'hitesh', 'krish naik', 'navin', 'sudhanshu'},\n",
       " (1, 2, 3)]"
      ]
     },
     "execution_count": 40,
     "metadata": {},
     "output_type": "execute_result"
    }
   ],
   "source": [
    "list(d16.values())"
   ]
  },
  {
   "cell_type": "code",
   "execution_count": 41,
   "id": "b61c50ac-895d-4aad-b4d2-bef9e623cb93",
   "metadata": {},
   "outputs": [
    {
     "data": {
      "text/plain": [
       "dict_items([('batch_name', ['data science masters', 'web dev', 'JDS']), ('start_date', (28, 14, 21)), ('mentor_name', {'hayder', 'hitesh', 'anurag', 'krish naik', 'navin', 'sudhanshu'}), ('timing', (1, 2, 3))])"
      ]
     },
     "execution_count": 41,
     "metadata": {},
     "output_type": "execute_result"
    }
   ],
   "source": [
    "d16.items()"
   ]
  },
  {
   "cell_type": "code",
   "execution_count": 42,
   "id": "b4b48093-484e-48ba-9623-57a11601526b",
   "metadata": {},
   "outputs": [
    {
     "data": {
      "text/plain": [
       "{'batch_name': ['data science masters', 'web dev', 'JDS'],\n",
       " 'start_date': (28, 14, 21),\n",
       " 'mentor_name': {'anurag',\n",
       "  'hayder',\n",
       "  'hitesh',\n",
       "  'krish naik',\n",
       "  'navin',\n",
       "  'sudhanshu'},\n",
       " 'timing': (1, 2, 3)}"
      ]
     },
     "execution_count": 42,
     "metadata": {},
     "output_type": "execute_result"
    }
   ],
   "source": [
    "d16"
   ]
  },
  {
   "cell_type": "code",
   "execution_count": 43,
   "id": "ec7a734b-46fb-4899-83cd-73ab39654d49",
   "metadata": {},
   "outputs": [],
   "source": [
    "d17 = d16.copy()"
   ]
  },
  {
   "cell_type": "code",
   "execution_count": 44,
   "id": "6d538316-e91f-455d-b628-896f77b29c69",
   "metadata": {},
   "outputs": [
    {
     "data": {
      "text/plain": [
       "{'batch_name': ['data science masters', 'web dev', 'JDS'],\n",
       " 'start_date': (28, 14, 21),\n",
       " 'mentor_name': {'anurag',\n",
       "  'hayder',\n",
       "  'hitesh',\n",
       "  'krish naik',\n",
       "  'navin',\n",
       "  'sudhanshu'},\n",
       " 'timing': (1, 2, 3)}"
      ]
     },
     "execution_count": 44,
     "metadata": {},
     "output_type": "execute_result"
    }
   ],
   "source": [
    "d17"
   ]
  },
  {
   "cell_type": "code",
   "execution_count": 46,
   "id": "894c6292-712f-4c4b-aceb-d97a27a4aa1b",
   "metadata": {},
   "outputs": [
    {
     "data": {
      "text/plain": [
       "(1, 2, 3)"
      ]
     },
     "execution_count": 46,
     "metadata": {},
     "output_type": "execute_result"
    }
   ],
   "source": [
    "d16.pop(\"timing\")"
   ]
  },
  {
   "cell_type": "code",
   "execution_count": 47,
   "id": "14e35e5b-a85f-4b1b-b9e8-546ee84eb47f",
   "metadata": {},
   "outputs": [
    {
     "data": {
      "text/plain": [
       "{'batch_name': ['data science masters', 'web dev', 'JDS'],\n",
       " 'start_date': (28, 14, 21),\n",
       " 'mentor_name': {'anurag',\n",
       "  'hayder',\n",
       "  'hitesh',\n",
       "  'krish naik',\n",
       "  'navin',\n",
       "  'sudhanshu'}}"
      ]
     },
     "execution_count": 47,
     "metadata": {},
     "output_type": "execute_result"
    }
   ],
   "source": [
    "d16"
   ]
  },
  {
   "cell_type": "code",
   "execution_count": null,
   "id": "0b6ca4b7-ded7-4b77-9171-5df0e4bd8e1c",
   "metadata": {},
   "outputs": [],
   "source": []
  },
  {
   "cell_type": "code",
   "execution_count": 48,
   "id": "a19c95db-f029-467a-a11a-da0b1ec69f18",
   "metadata": {},
   "outputs": [],
   "source": [
    "## Comprehension "
   ]
  },
  {
   "cell_type": "code",
   "execution_count": 49,
   "id": "d25372e4-e3ac-4bad-897c-75110f2db4d5",
   "metadata": {},
   "outputs": [
    {
     "data": {
      "text/plain": [
       "{1: 1, 2: 4, 3: 9, 4: 16, 5: 25, 6: 36, 7: 49, 8: 64, 9: 81, 10: 100}"
      ]
     },
     "execution_count": 49,
     "metadata": {},
     "output_type": "execute_result"
    }
   ],
   "source": [
    "{ i : i**2 for i in range(1,11)}"
   ]
  },
  {
   "cell_type": "code",
   "execution_count": 50,
   "id": "42932c72-a9de-4342-b187-3b8d319a6457",
   "metadata": {},
   "outputs": [
    {
     "data": {
      "text/plain": [
       "{2: 1, 4: 4, 6: 9, 8: 16, 10: 25, 12: 36, 14: 49, 16: 64, 18: 81, 20: 100}"
      ]
     },
     "execution_count": 50,
     "metadata": {},
     "output_type": "execute_result"
    }
   ],
   "source": [
    "{i*2 : i **2 for i in range(1,11)}"
   ]
  },
  {
   "cell_type": "code",
   "execution_count": null,
   "id": "d21d5bc3-e4df-47eb-b456-98f2a8466792",
   "metadata": {},
   "outputs": [],
   "source": []
  }
 ],
 "metadata": {
  "kernelspec": {
   "display_name": "Python 3 (ipykernel)",
   "language": "python",
   "name": "python3"
  },
  "language_info": {
   "codemirror_mode": {
    "name": "ipython",
    "version": 3
   },
   "file_extension": ".py",
   "mimetype": "text/x-python",
   "name": "python",
   "nbconvert_exporter": "python",
   "pygments_lexer": "ipython3",
   "version": "3.11.7"
  }
 },
 "nbformat": 4,
 "nbformat_minor": 5
}
